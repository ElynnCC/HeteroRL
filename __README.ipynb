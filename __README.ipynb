{
 "cells": [
  {
   "cell_type": "markdown",
   "id": "af65c08c-6403-4492-ac1a-cbf921bf3896",
   "metadata": {},
   "source": [
    "# Lauch Jupyter Notebook in pyenv version 3.11.3, python version 3.11.3\n",
    "\n",
    "- Do not lauch Jupyeter Notebook in Anaconda (kernel break down problem in Anaconda)\n",
    "\n",
    "- Terminal Console\n",
    "  - install pyenv\n",
    "  - pyen activate [your python environment]\n",
    "  - jupyter notebook\n"
   ]
  },
  {
   "cell_type": "markdown",
   "id": "68f85cb3",
   "metadata": {},
   "source": [
    "# Environment Setups\n",
    "\n",
    "- Run the code in the cell below to set your working directory\n",
    "- So that you can access the \"hetero\" folder as a library"
   ]
  },
  {
   "cell_type": "code",
   "execution_count": 1,
   "id": "64cfe273",
   "metadata": {},
   "outputs": [],
   "source": [
    "#WORK_DIR = \"[FULL PATH TO]/Public 0608\"\n",
    "\n",
    "WORK_DIR = \"/Users/elynncc/Dropbox/_My Work/__Codes/_HeteroPEPI/Public 0608\"\n",
    "\n",
    "import os\n",
    "os.chdir(WORK_DIR)"
   ]
  },
  {
   "cell_type": "markdown",
   "id": "723a4106",
   "metadata": {},
   "source": [
    "\n",
    "\n",
    "\n",
    "# Coefficients \n",
    "\n",
    "- Run \n",
    "  - QL-Hetero-20230602-LINEAR-SPLIT.ipynb\n",
    "  - QL-Hetero-20230602-LEGENDRE-SPLIT.ipynb"
   ]
  },
  {
   "cell_type": "code",
   "execution_count": null,
   "id": "52c72664",
   "metadata": {},
   "outputs": [],
   "source": []
  },
  {
   "cell_type": "markdown",
   "id": "d555ca89",
   "metadata": {},
   "source": [
    "# Confidence Intervel\n",
    "\n",
    "\n",
    "- Run the following notebooks in order. \n",
    "\n",
    "  - QL-Hetero-20230602-LINEAR-N20-T20.ipynb\n",
    "  - QL-Hetero-20230602-LINEAR-N20-T30.ipynb\n",
    "  - QL-Hetero-20230602-LINEAR-N20-T40.ipynb\n",
    "  - QL-Hetero-20230602-LINEAR-N50-T20.ipynb\n",
    "  - QL-Hetero-20230602-LINEAR-N50-T30.ipynb\n",
    "  - QL-Hetero-20230602-LINEAR-N50-T40.ipynb\n",
    "  - QL-Hetero-20230602-LINEAR-N100-T20.ipynb\n",
    "  - QL-Hetero-20230602-LINEAR-N100-T30.ipynb\n",
    "  - QL-Hetero-20230602-LINEAR-N100-T40.ipynb\n",
    "  \n",
    "  - QL-Hetero-20230602-LEGENDRE-N20-T20.ipynb\n",
    "  - QL-Hetero-20230602-LEGENDRE-N20-T30.ipynb\n",
    "  - QL-Hetero-20230602-LEGENDRE-N20-T40.ipynb\n",
    "  - QL-Hetero-20230602-LEGENDRE-N50-T20.ipynb\n",
    "  - QL-Hetero-20230602-LEGENDRE-N50-T30.ipynb\n",
    "  - QL-Hetero-20230602-LEGENDRE-N50-T40.ipynb\n",
    "  - QL-Hetero-20230602-LEGENDRE-N100-T20.ipynb\n",
    "  - QL-Hetero-20230602-LEGENDRE-N100-T30.ipynb\n",
    "  - QL-Hetero-20230602-LEGENDRE-N100-T40.ipynb\n",
    "  \n",
    "- Plot results use plot_ecp.ipynb"
   ]
  },
  {
   "cell_type": "code",
   "execution_count": null,
   "id": "1a6d7cdb",
   "metadata": {},
   "outputs": [],
   "source": []
  },
  {
   "cell_type": "markdown",
   "id": "9ac3e164",
   "metadata": {},
   "source": [
    "# Homogenerous Environment\n",
    "\n",
    "- QL-Hetero-20230602-HOMO-LINEAR.ipynb\n",
    "\n",
    "- QL-Hetero-20230602-HOMO-LEGENDRE.ipynb"
   ]
  },
  {
   "cell_type": "code",
   "execution_count": null,
   "id": "093a6e1a",
   "metadata": {},
   "outputs": [],
   "source": []
  },
  {
   "cell_type": "markdown",
   "id": "7618d5f7",
   "metadata": {},
   "source": [
    "# Real Data \n",
    "\n",
    "- Run REALDATA_ALL_6.ipynb"
   ]
  },
  {
   "cell_type": "code",
   "execution_count": null,
   "id": "e96718ea",
   "metadata": {},
   "outputs": [],
   "source": []
  }
 ],
 "metadata": {
  "kernelspec": {
   "display_name": "Python 3 (ipykernel)",
   "language": "python",
   "name": "python3"
  },
  "language_info": {
   "codemirror_mode": {
    "name": "ipython",
    "version": 3
   },
   "file_extension": ".py",
   "mimetype": "text/x-python",
   "name": "python",
   "nbconvert_exporter": "python",
   "pygments_lexer": "ipython3",
   "version": "3.11.3"
  }
 },
 "nbformat": 4,
 "nbformat_minor": 5
}
