{
 "cells": [
  {
   "cell_type": "markdown",
   "id": "af65c08c-6403-4492-ac1a-cbf921bf3896",
   "metadata": {},
   "source": [
    "# 1. Software Environment Setups\n",
    "\n",
    "## Lauch Jupyter Notebook in \"pyenv version 2.3.27\" and  \"python version 3.10.13\"\n",
    "\n",
    "- Caution: \"Do not lauch Jupyeter Notebook in Anaconda because there is a kernel break down problem in Anaconda.\"\n",
    "- Python packages are listed in \"Part 2: Code\" of the ACC form. \n",
    "\n",
    "- Terminal Console\n",
    "  - install pyenv\n",
    "  - pyen activate [your python environment]\n",
    "  - jupyter notebook\n",
    "\n",
    "- Start your jupyter notebook in this foler directory"
   ]
  },
  {
   "cell_type": "markdown",
   "id": "68f85cb3",
   "metadata": {},
   "source": [
    "# 2. Running Environment Setups\n",
    "\n",
    "## 2.1 Use `hetero' as a package\n",
    "\n",
    "With folder in the same directory, "
   ]
  },
  {
   "cell_type": "code",
   "execution_count": 3,
   "id": "342196bb-2922-4dc9-8d3a-c330f4861600",
   "metadata": {},
   "outputs": [
    {
     "data": {
      "text/plain": [
       "<function hetero.algo.beta_from_linreg(data, Z, U, discount)>"
      ]
     },
     "execution_count": 3,
     "metadata": {},
     "output_type": "execute_result"
    }
   ],
   "source": [
    "from hetero import *\n",
    "import hetero\n",
    "algo.beta_from_linreg"
   ]
  },
  {
   "cell_type": "markdown",
   "id": "a21d5228-812b-4244-b97e-3e8e918143a0",
   "metadata": {},
   "source": [
    "\n",
    "## 2.2 Debugging PATH \n",
    "\n",
    "In rare cases when the method in 2.1 does not work. One need to seek alternative way by checking that \"[PATH TO HETERORL]/HeteroRL/hetero\" is included in your Python search PATH. This step is crucial to enable Python to locate and access the functions defined in the files within \"[PATH TO HETERORL]/HeteroRL/hetero.\" The specific method for achieving this may vary depending on your computer's individual system settings. This is a common Python issue for which solutions can be readily found on the internet.\n",
    "\n",
    "\n",
    "- Start your jupyter notebook in this foler directory\n",
    "\n",
    "OR\n",
    "\n",
    "- Run the code in the cell below to set your working directory as this folder \"HeteroRL\"\n",
    "- So that you can access the \"hetero\" folder as a library "
   ]
  },
  {
   "cell_type": "code",
   "execution_count": 1,
   "id": "64cfe273",
   "metadata": {},
   "outputs": [],
   "source": [
    "WORK_DIR = \"[PATH TO HETERORL]/HeteroRL\"\n",
    "\n",
    "import os\n",
    "os.chdir(WORK_DIR)"
   ]
  },
  {
   "cell_type": "markdown",
   "id": "02fc1d18",
   "metadata": {},
   "source": [
    "# 3. Reproducing Results in Section 5. Simulations"
   ]
  },
  {
   "cell_type": "markdown",
   "id": "723a4106",
   "metadata": {},
   "source": [
    "# 3.1 Result I: Coefficients of the value function of a given policy $\\pi$\n",
    "\n",
    "This part of results is related to policy evaluation -- coefficient estimation. \n",
    "\n",
    "- Page 26 of the paper\n",
    "\n",
    "- Figure 2 is produced by running ``QL-Hetero-20230602-LINEAR-SPLIT.ipynb''. The result is in the last cell of the ipynb. \n",
    "  - Restart the kernel and run all in the ipynb."
   ]
  },
  {
   "cell_type": "markdown",
   "id": "d555ca89",
   "metadata": {},
   "source": [
    "# 3.2 Result II: Confidence Intervels of the integrated value of a given policy $\\pi$\n",
    "\n",
    "This part of results is related to policy evaluation -- the confidence interval of coefficient estimation. \n",
    "\n",
    "- Reproduce Figure 3 and Table 1 through the following steps:\n",
    "\n",
    "  - Restart kernel and run all for each of the following notebooks in order. The name of the ipynb suggests the setting of the experiments. \n",
    "    - QL-Hetero-20230602-LINEAR-N20-T20.ipynb  -->  \"Linear setting with N = 20 and T = 20\"\n",
    "    - QL-Hetero-20230602-LINEAR-N20-T30.ipynb  -->  \"Linear setting with N = 20 and T = 30\"\n",
    "    - QL-Hetero-20230602-LINEAR-N20-T40.ipynb  -->  \"Linear setting with N = 20 and T = 40\"\n",
    "    - QL-Hetero-20230602-LINEAR-N50-T20.ipynb  -->  \"Linear setting with N =50 and T = 20\"\n",
    "    - QL-Hetero-20230602-LINEAR-N50-T30.ipynb  -->  \"Linear setting with N = 50 and T = 30\"\n",
    "    - QL-Hetero-20230602-LINEAR-N50-T40.ipynb  -->  \"Linear setting with N = 50 and T = 40\"\n",
    "    - QL-Hetero-20230602-LINEAR-N100-T20.ipynb -->  \"Linear setting with N = 100 and T = 20\"\n",
    "    - QL-Hetero-20230602-LINEAR-N100-T30.ipynb -->  \"Linear setting with N = 100 and T = 30\"\n",
    "    - QL-Hetero-20230602-LINEAR-N100-T40.ipynb -->  \"Linear setting with N = 100 and T = 40\"\n",
    "  \n",
    "  - The last cell of each notebook will output:\n",
    "\n",
    "    - MSE: Mean Squared Error\n",
    "    - ACL: Average Confidence Length\n",
    "    - ECP: Empirical Coverage Probability\n",
    "\n",
    "    for two algorithms (ACPE and MVPE) under the setting of the notebook. For example, the last cell of ``QL-Hetero-20230602-LINEAR-N20-T30.ipynb'' outputs: \n",
    "    - ACPE results: Group1, Group 2         <---- ACPE results for each group 1 and Group 2, respectively. \n",
    "    - MSE: [0.01998241 0.02120073]\n",
    "    - ACL: [0.64936136 0.64944401]\n",
    "    - ECP: [0.97 0.99]\n",
    "    - ===\n",
    "    - MVPE results:                         <---- MVPE results for each group 1 and Group 2, respectively. \n",
    "    - MSE: [12.82583  13.151297]\n",
    "    - ACL: [0.99122333]\n",
    "    - ECP: [0. 0.]\n",
    "  \n",
    "  - Compile all the numbers from all the ipynb notebook to produce: \n",
    "    - Figure 3 by using ECPs and ``plot_ecp.ipynb'' for plotting.\n",
    "    - Table 1 by typing all the numbers in the latex table. "
   ]
  },
  {
   "cell_type": "markdown",
   "id": "286d1f96",
   "metadata": {},
   "source": [
    "# 3.3 Result III: Parametric optimal policy \n",
    "\n",
    "This part of results are related to policy optimization. \n",
    "\n",
    "- Table 2 and Table 3 are obtained from ``QL-Hetero-20230602-LEGENDRE-PO.ipynb''\n",
    "\n",
    "- Results in Table 3 are read off from output in \n",
    "  - Result of running Cell 8: ``MEAN_Y_FINAL=1.0588678121566772''\n",
    "  - Result of running Cell 9: ``MEAN_Y_FINAL=0.9919090270996094''\n",
    "  - Results of running Cell 10: \n",
    "    - Combined pol eval on cluser 0 = 0.3508417\n",
    "    - Combined pol eval on cluser 1 = -0.30345097\n",
    "\n",
    "- Results in Table 2 are read off from output in \n",
    "  - The section named ``Examing Specific Examples --> Results for Table 2''\n",
    "  - Results of running the last two cells of the ipynb. "
   ]
  },
  {
   "cell_type": "markdown",
   "id": "7618d5f7",
   "metadata": {},
   "source": [
    "# 4. Reproducing Results in Section 6. Real Data \n",
    "\n",
    "- Run REALDATA_ALL_6.ipynb"
   ]
  },
  {
   "cell_type": "markdown",
   "id": "85d9ea91",
   "metadata": {},
   "source": [
    "# 5. Reproducing Results in Appendix: Section A.3: Number of basis functions\n",
    "\n",
    "- Restart kernel and run all cells in ``LEGENDRE_DIFF_ORDER_V0_Fixed_Coeff_COMBINED.ipynb''\n",
    "- Figure 6 are obtained in the respective Sections \"Plot Figure 6 (Right)\" and \"Plot Figure 6 (Left)\""
   ]
  },
  {
   "cell_type": "markdown",
   "id": "6f8ce638",
   "metadata": {},
   "source": [
    "# 6. Reproducing Results in Appendix B: Additional Simulation Results\n",
    "\n",
    "## 6.1 Section B.1: Non-linear reward, non-linear values, and non-Gaussian noise\n",
    "\n",
    "- Figure 7 in Appendix B, Section B.1 in the supplemental material is produced by running ``QL-Hetero-20230602-LEGENDRE-SPLIT.ipynb''. The result is in the last cell of the ipynb. \n",
    "  - Restart the kernel and run all in the ipynb.\n",
    "\n",
    "\n",
    "- Figure 8 and Table 5 in Appendix B in the supplemental materials are produced by following the same procedure as described above with each of the following ipynb. \n",
    "\n",
    "  - Restart kernel and run all for each of the following notebooks in order. The name of the ipynb suggests the setting of the experiments. \n",
    "    - QL-Hetero-20230602-LEGENDRE-N20-T20.ipynb\n",
    "    - QL-Hetero-20230602-LEGENDRE-N20-T30.ipynb\n",
    "    - QL-Hetero-20230602-LEGENDRE-N20-T40.ipynb\n",
    "    - QL-Hetero-20230602-LEGENDRE-N50-T20.ipynb\n",
    "    - QL-Hetero-20230602-LEGENDRE-N50-T30.ipynb\n",
    "    - QL-Hetero-20230602-LEGENDRE-N50-T40.ipynb\n",
    "    - QL-Hetero-20230602-LEGENDRE-N100-T20.ipynb\n",
    "    - QL-Hetero-20230602-LEGENDRE-N100-T30.ipynb\n",
    "    - QL-Hetero-20230602-LEGENDRE-N100-T40.ipynb \n",
    "\n",
    "  - The last cell of each notebook will output:\n",
    "\n",
    "    - MSE: Mean Squared Error\n",
    "    - ACL: Average Confidence Length\n",
    "    - ECP: Empirical Coverage Probability\n",
    "\n",
    "    for two algorithms (ACPE and MVPE) under the setting of the notebook. For example, the last cell of ``QL-Hetero-20230602-LEGENDRE-N100-T40.ipynb'' outputs: \n",
    "\n",
    "    - ACPE results: Group1, Group 2         <---- ACPE results for each group 1 and Group 2, respectively. \n",
    "    - MSE: [0.00090265 0.00061632]\n",
    "    - ACL: [0.11530798 0.11504481]\n",
    "    - ECP: [0.94 1.  ]\n",
    "    - ===\n",
    "    - MVPE results:                         <---- MVPE results for each group 1 and Group 2, respectively. \n",
    "    - MSE: [1.53640846 1.57656331]\n",
    "    - ACL: [0.14371708]\n",
    "    - ECP: [0. 0.]\n",
    "  \n",
    "  - Compile all the numbers from all the ipynb notebook to produce: \n",
    "    - Figure 8 by using ECPs and ``plot_ecp.ipynb'' for plotting.\n",
    "    - Table 5 by typing all the numbers in the latex table. "
   ]
  },
  {
   "cell_type": "markdown",
   "id": "9ac3e164",
   "metadata": {},
   "source": [
    "## 6.2 Section B.2: Results for Homogenerous MDP\n",
    "\n",
    "- Figure 9 is produced by: ``QL-Hetero-20230602-HOMO-LINEAR.ipynb''\n",
    "\n",
    "- Figure 10 is prodcued by: ``QL-Hetero-20230602-HOMO-LEGENDRE.ipynb''"
   ]
  },
  {
   "cell_type": "markdown",
   "id": "47027b9c",
   "metadata": {},
   "source": [
    "# 7. Core Files and Functions in \"hetero\" package\n",
    "\n",
    "Most variables and functions are self-explanatory in their names, indicating their intended purposes. Comments are provided for some functions or variables that are not self-explanatory.\n",
    "\n",
    "- \n",
    "- \"utils.py\" contains the utility functions to facilitate computation.\n",
    "\n",
    "The program is designed to be flexible and with minimal redundancy. \n",
    "\n",
    "## 7.1 Task Flow of ACPE \n",
    "\n",
    "For auto-clustered policy evaluation, the directly relevant file is \"tasks.py\" for PE. The entire task flow is illustrated in \"QL-Hetero-20230602-LINEAR-N100-T40.ipynb\"\n",
    "\n",
    "- At the beginning, data's label are assigned to each trajectory. \n",
    "- Algorithm 1 can be initiated from random betas, assigned betas, or betas estimated from individual trajectory from configuration. \n",
    "- Function \"beta_estimate_from_e2e_learning()\" is the end to end learning of Algorithm 1: ACPE. It outputs the value of each betas, clustering results, and centroid of each cluster. It calls the following core functions that implements the core calculations as described in Appendix Section A.1. \n",
    "  - \"impl = MCPImpl(data.N(), algo_config)\" ---> implement MCP penalization\n",
    "  - \"beta_opt = BetaOptimizer(data, algo_config, pi_eval, impl, init_beta)\" ---> class\n",
    "  - \"betas = beta_opt.compute()\"  ---> Compute ADMM and ALM for solving the minimizer beta\n",
    "  - \"learned_labels = group(betas, grouping_config)\" ---> clustering based on estimated betas\n",
    "  - \"aligned_labels = align_binary_labels(learned_labels, truth)\" ---> count the number of corrected aligned labels\n",
    "- \n",
    "\n",
    "## 7.2 Task Flow of ACPI \n",
    "\n",
    "For auto-clustered policy iteration, the directly relevant file is \"tasks.py\" for PE and \"offline_rl.py\" for PI. The entire task flow is illustrated in \"QL-Hetero-20230602-LINEAR-PO.ipynb\"\n",
    "\n",
    "- Run \"7.1 Task Flow of ACPE\"\n",
    "- Obtain clustering results and update data label as its estimated group\n",
    "- Call \"offline_rl_mod.ActorCriticLeaner()\" for each group\n",
    "\n",
    "\n",
    "## 7.3 Other Core Functions\n",
    "\n",
    "- Function \"beta_estimate_from_nongrouped()\" ---> is the classic pooled estimation \n",
    "- Function \"beta_estimate_from_e2e_learning()\" ---> is the end to end learning of our ACPE (Policy Evaluation).\n",
    "- Class \"ActorCriticLeaner()\" ---> implement ActorCritc Architecture \n",
    "- Class \"ActorLearner()\" ---> implement Policy Iteration\n"
   ]
  },
  {
   "cell_type": "markdown",
   "id": "7b270868",
   "metadata": {},
   "source": [
    "# The End"
   ]
  }
 ],
 "metadata": {
  "kernelspec": {
   "display_name": "Python 3 (ipykernel)",
   "language": "python",
   "name": "python3"
  },
  "language_info": {
   "codemirror_mode": {
    "name": "ipython",
    "version": 3
   },
   "file_extension": ".py",
   "mimetype": "text/x-python",
   "name": "python",
   "nbconvert_exporter": "python",
   "pygments_lexer": "ipython3",
   "version": "3.10.13"
  }
 },
 "nbformat": 4,
 "nbformat_minor": 5
}
