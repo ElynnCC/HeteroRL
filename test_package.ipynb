{
 "cells": [
  {
   "cell_type": "code",
   "execution_count": 6,
   "id": "96846c52-0173-4aff-bb3f-b9a483a86fcd",
   "metadata": {},
   "outputs": [],
   "source": [
    "from hetero import *"
   ]
  },
  {
   "cell_type": "code",
   "execution_count": 7,
   "id": "19ec82dd-02c5-4048-bbf4-48ff2ec27fe0",
   "metadata": {},
   "outputs": [],
   "source": [
    "import hetero"
   ]
  },
  {
   "cell_type": "code",
   "execution_count": 8,
   "id": "2df940e2-abb8-4a64-bc3e-06f2d5ffc3d1",
   "metadata": {},
   "outputs": [
    {
     "data": {
      "text/plain": [
       "<function hetero.algo.beta_from_linreg(data, Z, U, discount)>"
      ]
     },
     "execution_count": 8,
     "metadata": {},
     "output_type": "execute_result"
    }
   ],
   "source": [
    "algo.beta_from_linreg"
   ]
  }
 ],
 "metadata": {
  "kernelspec": {
   "display_name": "Python 3 (ipykernel)",
   "language": "python",
   "name": "python3"
  },
  "language_info": {
   "codemirror_mode": {
    "name": "ipython",
    "version": 3
   },
   "file_extension": ".py",
   "mimetype": "text/x-python",
   "name": "python",
   "nbconvert_exporter": "python",
   "pygments_lexer": "ipython3",
   "version": "3.10.13"
  }
 },
 "nbformat": 4,
 "nbformat_minor": 5
}
