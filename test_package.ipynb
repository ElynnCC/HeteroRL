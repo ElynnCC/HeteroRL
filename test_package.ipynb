{
 "cells": [
  {
   "cell_type": "code",
   "execution_count": 6,
   "id": "96846c52-0173-4aff-bb3f-b9a483a86fcd",
   "metadata": {},
   "outputs": [],
   "source": [
    "from hetero import *"
   ]
  },
  {
   "cell_type": "code",
   "execution_count": 7,
   "id": "19ec82dd-02c5-4048-bbf4-48ff2ec27fe0",
   "metadata": {},
   "outputs": [],
   "source": [
    "import hetero"
   ]
  },
  {
   "cell_type": "code",
   "execution_count": 8,
   "id": "2df940e2-abb8-4a64-bc3e-06f2d5ffc3d1",
   "metadata": {},
   "outputs": [
    {
     "data": {
      "text/plain": [
       "<function hetero.algo.beta_from_linreg(data, Z, U, discount)>"
      ]
     },
     "execution_count": 8,
     "metadata": {},
     "output_type": "execute_result"
    }
   ],
   "source": [
    "algo.beta_from_linreg"
   ]
  },
  {
   "cell_type": "code",
   "execution_count": null,
   "id": "88c3ac1a-8d32-4cc1-a805-5acf531b3f99",
   "metadata": {},
   "outputs": [],
   "source": [
    "pyenv 3.10.13\n",
    "Python 3.10.13\n",
    "\n",
    "\n",
    "Package                   Version\n",
    "------------------------- ------------          \n",
    "attrs                     23.1.0\n",
    "matplotlib                3.8.0\n",
    "matplotlib-inline         0.1.6\n",
    "numpy                     1.26.0\n",
    "pandas                    2.1.1\n",
    "patsy                     0.5.3\n",
    "scikit-learn              1.3.1\n",
    "scipy                     1.11.3\n",
    "seaborn                   0.13.0\n",
    "statsmodels               0.14.0\n",
    "torch                     2.1.0\n",
    "typing_extensions         4.8.0\n"
   ]
  }
 ],
 "metadata": {
  "kernelspec": {
   "display_name": "Python 3 (ipykernel)",
   "language": "python",
   "name": "python3"
  },
  "language_info": {
   "codemirror_mode": {
    "name": "ipython",
    "version": 3
   },
   "file_extension": ".py",
   "mimetype": "text/x-python",
   "name": "python",
   "nbconvert_exporter": "python",
   "pygments_lexer": "ipython3",
   "version": "3.10.13"
  }
 },
 "nbformat": 4,
 "nbformat_minor": 5
}
