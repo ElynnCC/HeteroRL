{
 "cells": [
  {
   "cell_type": "code",
   "execution_count": 1,
   "id": "2017b44c",
   "metadata": {},
   "outputs": [],
   "source": [
    "import attrs\n",
    "import numpy as np\n",
    "from matplotlib import pyplot as plt\n",
    "\n",
    "from hetero.algo import BetaOptimizer, MCPImpl\n",
    "from hetero.config import DTYPE, AlgoConfig, DataGenConfig, GroupingConfig\n",
    "from hetero.datagen import generate_data_from_config\n",
    "from hetero.policies import AlternativePolicy\n",
    "from hetero.tasks import (\n",
    "    beta_estimate_from,\n",
    "    beta_estimate_from_e2e_learning,\n",
    "    beta_estimate_from_nongrouped,\n",
    "    compute_UV_truths,\n",
    "    compute_V_estimate,\n",
    ")"
   ]
  },
  {
   "cell_type": "markdown",
   "id": "14ac4ff1",
   "metadata": {},
   "source": [
    "====================================================================================================="
   ]
  },
  {
   "cell_type": "code",
   "execution_count": 2,
   "id": "6460ca6b-2f04-4d67-a388-b283110519ca",
   "metadata": {
    "tags": []
   },
   "outputs": [],
   "source": [
    "# Setting following two coeffs to same values for both groups to simulate the homogeneous case.\n",
    "\n",
    "group_reward_coeff = np.array(\n",
    "    [\n",
    "        [2.68, -2.68],\n",
    "        [2.68, -2.68],\n",
    "    ],\n",
    "    dtype=DTYPE,\n",
    ")\n",
    "\n",
    "action_reward_coeff = [2.89, 2.89]\n",
    "\n",
    "data_config_init = dict(\n",
    "    num_time_steps=30,\n",
    "    group_reward_coeff_override=group_reward_coeff,\n",
    "    action_reward_coeff=action_reward_coeff,\n",
    "    basis_expansion_method=\"NONE\",\n",
    "    add_intercept_column=True,\n",
    ")\n",
    "\n",
    "data_config = DataGenConfig(num_trajectories=100, **data_config_init)\n"
   ]
  },
  {
   "cell_type": "markdown",
   "id": "2c73ecf9",
   "metadata": {},
   "source": [
    "# Aglorithm Run"
   ]
  },
  {
   "cell_type": "code",
   "execution_count": 3,
   "id": "cf88d03d",
   "metadata": {},
   "outputs": [
    {
     "name": "stdout",
     "output_type": "stream",
     "text": [
      "new_labels.length=6000 matches number of records\n"
     ]
    }
   ],
   "source": [
    "algo_config_init = dict(\n",
    "    discount=0.6,\n",
    "    max_num_iters=10,\n",
    "    nu_coeff=8e-6,\n",
    "    delta_coeff=8e-6,\n",
    "    gam=2.0,\n",
    ")\n",
    "\n",
    "data = generate_data_from_config(data_config)\n",
    "\n",
    "pi_eval = AlternativePolicy(data.num_actions())\n",
    "\n",
    "beta_nongrouped = beta_estimate_from_nongrouped(\n",
    "    data, pi_eval, algo_config_init[\"discount\"]\n",
    ")\n",
    "\n",
    "lam_to_beta = {}\n"
   ]
  },
  {
   "cell_type": "code",
   "execution_count": 4,
   "id": "7724af14",
   "metadata": {},
   "outputs": [
    {
     "name": "stdout",
     "output_type": "stream",
     "text": [
      "+++++ lam = 3.6, rho = 100.0 +++++\n",
      "beta_solver, min eigen of left matrix = (0.82752293+0j)\n",
      "MCPImpl: num_above=3, num_below=19897\n",
      "beta_solver, min eigen of left matrix = (0.82752293+0j)\n",
      "MCPImpl: num_above=2742, num_below=17158\n",
      "beta_solver, min eigen of left matrix = (0.82752293+0j)\n",
      "MCPImpl: num_above=5436, num_below=14464\n",
      "beta_solver, min eigen of left matrix = (0.82752293+0j)\n",
      "MCPImpl: num_above=107, num_below=19793\n",
      "beta_solver, min eigen of left matrix = (0.82752293+0j)\n",
      "MCPImpl: num_above=8354, num_below=11546\n",
      "beta_solver, min eigen of left matrix = (0.82752293+0j)\n",
      "MCPImpl: num_above=130, num_below=19770\n",
      "beta_solver, min eigen of left matrix = (0.82752293+0j)\n",
      "MCPImpl: num_above=4602, num_below=15298\n",
      "beta_solver, min eigen of left matrix = (0.82752293+0j)\n",
      "MCPImpl: num_above=777, num_below=19123\n",
      "beta_solver, min eigen of left matrix = (0.82752293+0j)\n",
      "MCPImpl: num_above=1768, num_below=18132\n",
      "beta_solver, min eigen of left matrix = (0.82752293+0j)\n",
      "MCPImpl: num_above=3250, num_below=16650\n",
      "+++++ lam = 1.6, rho = 2.0 +++++\n",
      "beta_solver, min eigen of left matrix = (0.82752293+0j)\n",
      "MCPImpl: num_above=4414, num_below=15486\n",
      "beta_solver, min eigen of left matrix = (0.82752293+0j)\n",
      "MCPImpl: num_above=1839, num_below=18061\n",
      "beta_solver, min eigen of left matrix = (0.82752293+0j)\n",
      "MCPImpl: num_above=1942, num_below=17958\n",
      "beta_solver, min eigen of left matrix = (0.82752293+0j)\n",
      "MCPImpl: num_above=1808, num_below=18092\n",
      "beta_solver, min eigen of left matrix = (0.82752293+0j)\n",
      "MCPImpl: num_above=2647, num_below=17253\n",
      "beta_solver, min eigen of left matrix = (0.82752293+0j)\n",
      "MCPImpl: num_above=2212, num_below=17688\n",
      "beta_solver, min eigen of left matrix = (0.82752293+0j)\n",
      "MCPImpl: num_above=2208, num_below=17692\n",
      "beta_solver, min eigen of left matrix = (0.82752293+0j)\n",
      "MCPImpl: num_above=2361, num_below=17539\n",
      "beta_solver, min eigen of left matrix = (0.82752293+0j)\n",
      "MCPImpl: num_above=2138, num_below=17762\n",
      "beta_solver, min eigen of left matrix = (0.82752293+0j)\n",
      "MCPImpl: num_above=2167, num_below=17733\n",
      "+++++ lam = 0.6, rho = 6.0 +++++\n",
      "beta_solver, min eigen of left matrix = (0.82752293+0j)\n",
      "MCPImpl: num_above=19078, num_below=822\n",
      "beta_solver, min eigen of left matrix = (0.82752293+0j)\n",
      "MCPImpl: num_above=19323, num_below=577\n",
      "beta_solver, min eigen of left matrix = (0.82752293+0j)\n",
      "MCPImpl: num_above=19078, num_below=822\n",
      "beta_solver, min eigen of left matrix = (0.82752293+0j)\n",
      "MCPImpl: num_above=19309, num_below=591\n",
      "beta_solver, min eigen of left matrix = (0.82752293+0j)\n",
      "MCPImpl: num_above=19081, num_below=819\n",
      "beta_solver, min eigen of left matrix = (0.82752293+0j)\n",
      "MCPImpl: num_above=19306, num_below=594\n",
      "beta_solver, min eigen of left matrix = (0.82752293+0j)\n",
      "MCPImpl: num_above=19082, num_below=818\n",
      "beta_solver, min eigen of left matrix = (0.82752293+0j)\n",
      "MCPImpl: num_above=19304, num_below=596\n",
      "beta_solver, min eigen of left matrix = (0.82752293+0j)\n",
      "MCPImpl: num_above=19083, num_below=817\n",
      "beta_solver, min eigen of left matrix = (0.82752293+0j)\n",
      "MCPImpl: num_above=19305, num_below=595\n"
     ]
    }
   ],
   "source": [
    "lam_list = [3.6, 1.6, 0.6]\n",
    "rho_list = [100.0, 2.0, 6.0]\n",
    "\n",
    "lam_to_rho = {k:v for k, v in zip(lam_list, rho_list)}\n",
    "\n",
    "for lam, rho in zip(lam_list, rho_list):\n",
    "    print(f\"+++++ lam = {lam}, rho = {rho} +++++\")\n",
    "    algo_config = AlgoConfig(lam=lam, rho=rho, **algo_config_init)\n",
    "    impl = MCPImpl(data.N(), algo_config)\n",
    "    beta_opt = BetaOptimizer(data, algo_config, pi_eval, impl)\n",
    "    lam_to_beta[algo_config.lam] = beta_opt.compute()"
   ]
  },
  {
   "cell_type": "code",
   "execution_count": 11,
   "id": "596be7ab-822a-4660-b5fc-07e0954d0eed",
   "metadata": {
    "tags": []
   },
   "outputs": [
    {
     "data": {
      "text/plain": [
       "<Figure size 640x480 with 0 Axes>"
      ]
     },
     "metadata": {},
     "output_type": "display_data"
    },
    {
     "data": {
      "image/png": "[encoded data removed]",
      "text/plain": [
       "<Figure size 1400x400 with 3 Axes>"
      ]
     },
     "metadata": {},
     "output_type": "display_data"
    }
   ],
   "source": [
    "xlim = [-20, 20]\n",
    "ylim = [-20, 20]\n",
    "\n",
    "plt.set_cmap('tab20')\n",
    "fig, axs = plt.subplots(1, 3, figsize=[14, 4])\n",
    "\n",
    "for i, lam in enumerate(sorted(lam_to_beta.keys(), reverse=True)):\n",
    "    beta = lam_to_beta[lam]\n",
    "    rho = lam_to_rho[lam]\n",
    "    beta_mean = beta.mean(axis=0)\n",
    "\n",
    "    axs[i].scatter(\n",
    "        beta[:, 0], \n",
    "        beta[:, 1], \n",
    "        alpha=0.5)\n",
    "    axs[i].scatter(\n",
    "        beta_nongrouped.betas[0][0],\n",
    "        beta_nongrouped.betas[0][1],\n",
    "        c='#D35400', # red\n",
    "        s=60,\n",
    "        marker=\"*\",\n",
    "    )\n",
    "    axs[i].scatter(\n",
    "        beta_mean[0], \n",
    "        beta_mean[1], \n",
    "        c='#F1C40F',  # yellow\n",
    "        s=30,\n",
    "        marker=\"+\")\n",
    "    \n",
    "    axs[i].set_xlim(xlim)\n",
    "    axs[i].set_ylim(ylim)\n",
    "    axs[i].set_title(f\"$\\\\lambda$ = {lam:0.2f}, $ \\\\rho$ = {rho}\")\n",
    "    \n",
    "plt.savefig(f'results/mdp_homo_linear.pdf', bbox_inches='tight')\n",
    "plt.show()"
   ]
  },
  {
   "cell_type": "code",
   "execution_count": null,
   "id": "b53b8ad6",
   "metadata": {},
   "outputs": [],
   "source": []
  }
 ],
 "metadata": {
  "kernelspec": {
   "display_name": "Python 3 (ipykernel)",
   "language": "python",
   "name": "python3"
  },
  "language_info": {
   "codemirror_mode": {
    "name": "ipython",
    "version": 3
   },
   "file_extension": ".py",
   "mimetype": "text/x-python",
   "name": "python",
   "nbconvert_exporter": "python",
   "pygments_lexer": "ipython3",
   "version": "3.10.11"
  }
 },
 "nbformat": 4,
 "nbformat_minor": 5
}
