{
 "cells": [
  {
   "cell_type": "code",
   "execution_count": 1,
   "id": "2017b44c",
   "metadata": {},
   "outputs": [],
   "source": [
    "import attrs\n",
    "import numpy as np\n",
    "from matplotlib import pyplot as plt\n",
    "\n",
    "from hetero.algo import BetaOptimizer, MCPImpl\n",
    "from hetero.config import DTYPE, AlgoConfig, DataGenConfig, GroupingConfig\n",
    "from hetero.datagen import generate_data_from_config\n",
    "from hetero.policies import AlternativePolicy\n",
    "from hetero.tasks import (\n",
    "    beta_estimate_from,\n",
    "    beta_estimate_from_e2e_learning,\n",
    "    beta_estimate_from_nongrouped,\n",
    "    compute_UV_truths,\n",
    "    compute_V_estimate,\n",
    ")"
   ]
  },
  {
   "cell_type": "markdown",
   "id": "14ac4ff1",
   "metadata": {},
   "source": [
    "====================================================================================================="
   ]
  },
  {
   "cell_type": "code",
   "execution_count": 22,
   "id": "6460ca6b-2f04-4d67-a388-b283110519ca",
   "metadata": {
    "tags": []
   },
   "outputs": [
    {
     "name": "stdout",
     "output_type": "stream",
     "text": [
      "new_labels.length=8000 matches number of records\n"
     ]
    }
   ],
   "source": [
    "# Setting following two coeffs to same values for both groups to simulate the homogeneous case.\n",
    "\n",
    "group_reward_coeff = np.array(\n",
    "    [\n",
    "        [2, -2, -2, 2],\n",
    "        [2, -2, -2, 2],\n",
    "    ],\n",
    "    dtype=DTYPE,\n",
    ")\n",
    "\n",
    "action_reward_coeff = [1, 1]\n",
    "\n",
    "FEATURE_TYPE = \"LEGENDRE\"\n",
    "TRANS = \"NORMCDF\"\n",
    "NOISE = \"STUDENT\"\n",
    "\n",
    "data_config_init = dict(\n",
    "    num_trajectories=100,\n",
    "    num_time_steps=40,\n",
    "    group_reward_coeff_override=group_reward_coeff,\n",
    "    action_reward_coeff=action_reward_coeff,\n",
    "    num_burnin_steps=100,\n",
    "    basis_expansion_method=FEATURE_TYPE,\n",
    "    transformation_method=TRANS,\n",
    "    add_intercept_column=True,\n",
    "    noise_type=NOISE,\n",
    "    noise_student_degree=4,\n",
    ")\n",
    "\n",
    "\n",
    "data_config = DataGenConfig(**data_config_init)\n"
   ]
  },
  {
   "cell_type": "code",
   "execution_count": 28,
   "id": "5c11c651",
   "metadata": {},
   "outputs": [],
   "source": [
    "# Trial Two"
   ]
  },
  {
   "cell_type": "code",
   "execution_count": 55,
   "id": "9ead6e99",
   "metadata": {},
   "outputs": [
    {
     "name": "stdout",
     "output_type": "stream",
     "text": [
      "new_labels.length=8000 matches number of records\n",
      "+++++ lam = 3.0, rho = 10 +++++\n",
      "beta_solver, min eigen of left matrix = 0.48847613\n",
      "MCPImpl: num_above=1081, num_below=18819\n",
      "beta_solver, min eigen of left matrix = 0.48847613\n",
      "MCPImpl: num_above=19699, num_below=201\n",
      "beta_solver, min eigen of left matrix = 0.48847613\n",
      "MCPImpl: num_above=13579, num_below=6321\n",
      "beta_solver, min eigen of left matrix = 0.48847613\n",
      "MCPImpl: num_above=9746, num_below=10154\n",
      "beta_solver, min eigen of left matrix = 0.48847613\n",
      "MCPImpl: num_above=13264, num_below=6636\n",
      "beta_solver, min eigen of left matrix = 0.48847613\n",
      "MCPImpl: num_above=6509, num_below=13391\n",
      "beta_solver, min eigen of left matrix = 0.48847613\n",
      "MCPImpl: num_above=18244, num_below=1656\n",
      "beta_solver, min eigen of left matrix = 0.48847613\n",
      "MCPImpl: num_above=7947, num_below=11953\n",
      "beta_solver, min eigen of left matrix = 0.48847613\n",
      "MCPImpl: num_above=17752, num_below=2148\n",
      "beta_solver, min eigen of left matrix = 0.48847613\n",
      "MCPImpl: num_above=9465, num_below=10435\n",
      "+++++ lam = 2.0, rho = 2 +++++\n",
      "beta_solver, min eigen of left matrix = 0.48847613\n",
      "MCPImpl: num_above=4991, num_below=14909\n",
      "beta_solver, min eigen of left matrix = 0.48847613\n",
      "MCPImpl: num_above=16724, num_below=3176\n",
      "beta_solver, min eigen of left matrix = 0.48847613\n",
      "MCPImpl: num_above=4435, num_below=15465\n",
      "beta_solver, min eigen of left matrix = 0.48847613\n",
      "MCPImpl: num_above=17318, num_below=2582\n",
      "beta_solver, min eigen of left matrix = 0.48847613\n",
      "MCPImpl: num_above=11223, num_below=8677\n",
      "beta_solver, min eigen of left matrix = 0.48847613\n",
      "MCPImpl: num_above=12904, num_below=6996\n",
      "beta_solver, min eigen of left matrix = 0.48847613\n",
      "MCPImpl: num_above=10219, num_below=9681\n",
      "beta_solver, min eigen of left matrix = 0.48847613\n",
      "MCPImpl: num_above=9751, num_below=10149\n",
      "beta_solver, min eigen of left matrix = 0.48847613\n",
      "MCPImpl: num_above=13282, num_below=6618\n",
      "beta_solver, min eigen of left matrix = 0.48847613\n",
      "MCPImpl: num_above=8156, num_below=11744\n",
      "+++++ lam = 1.5, rho = 2 +++++\n",
      "beta_solver, min eigen of left matrix = 0.48847613\n",
      "MCPImpl: num_above=11320, num_below=8580\n",
      "beta_solver, min eigen of left matrix = 0.48847613\n",
      "MCPImpl: num_above=6327, num_below=13573\n",
      "beta_solver, min eigen of left matrix = 0.48847613\n",
      "MCPImpl: num_above=17727, num_below=2173\n",
      "beta_solver, min eigen of left matrix = 0.48847613\n",
      "MCPImpl: num_above=13831, num_below=6069\n",
      "beta_solver, min eigen of left matrix = 0.48847613\n",
      "MCPImpl: num_above=7001, num_below=12899\n",
      "beta_solver, min eigen of left matrix = 0.48847613\n",
      "MCPImpl: num_above=14274, num_below=5626\n",
      "beta_solver, min eigen of left matrix = 0.48847613\n",
      "MCPImpl: num_above=10084, num_below=9816\n",
      "beta_solver, min eigen of left matrix = 0.48847613\n",
      "MCPImpl: num_above=11175, num_below=8725\n",
      "beta_solver, min eigen of left matrix = 0.48847613\n",
      "MCPImpl: num_above=12492, num_below=7408\n",
      "beta_solver, min eigen of left matrix = 0.48847613\n",
      "MCPImpl: num_above=8076, num_below=11824\n"
     ]
    }
   ],
   "source": [
    "algo_config_init = dict(\n",
    "    discount=0.6,\n",
    "    max_num_iters=10,\n",
    "    gam=2.7,\n",
    "    #should_remove_outlier=True,\n",
    "    #outlier_lower_perc=2,\n",
    "    #outlier_upper_perc=98,\n",
    "    nu_coeff=1e-6,         \n",
    "    delta_coeff=1e-6,\n",
    "    use_group_wise_regression_init=True,\n",
    ")\n",
    "\n",
    "data = generate_data_from_config(data_config)\n",
    "\n",
    "pi_eval = AlternativePolicy(data.num_actions())\n",
    "\n",
    "beta_nongrouped = beta_estimate_from_nongrouped(\n",
    "    data, pi_eval, algo_config_init[\"discount\"]\n",
    ")\n",
    "lam_to_beta = {}\n",
    "\n",
    "lam_list = [3.0, 2.0, 1.5]\n",
    "#rho_list = [30, 25, 10]\n",
    "rho_list = [10, 2, 2]\n",
    "\n",
    "lam_to_rho = {k:v for k, v in zip(lam_list, rho_list)}\n",
    "\n",
    "for lam, rho in zip(lam_list, rho_list):\n",
    "    print(f\"+++++ lam = {lam}, rho = {rho} +++++\")\n",
    "    algo_config = AlgoConfig(lam=lam, rho=rho, **algo_config_init)\n",
    "    impl = MCPImpl(data.N(), algo_config)\n",
    "    beta_opt = BetaOptimizer(data, algo_config, pi_eval, impl)\n",
    "    lam_to_beta[algo_config.lam] = beta_opt.compute()\n",
    "    "
   ]
  },
  {
   "cell_type": "code",
   "execution_count": 57,
   "id": "983cc9b3",
   "metadata": {},
   "outputs": [
    {
     "data": {
      "text/plain": [
       "<Figure size 640x480 with 0 Axes>"
      ]
     },
     "metadata": {},
     "output_type": "display_data"
    },
    {
     "data": {
      "image/png": "[encoded data removed]",
      "text/plain": [
       "<Figure size 1400x400 with 3 Axes>"
      ]
     },
     "metadata": {},
     "output_type": "display_data"
    }
   ],
   "source": [
    "xlim = [-30, 30]\n",
    "ylim = [-30, 30]\n",
    "\n",
    "plt.set_cmap('tab20')\n",
    "fig, axs = plt.subplots(1, 3, figsize=[14, 4])\n",
    "\n",
    "for i, lam in enumerate(sorted(lam_to_beta.keys(), reverse=True)):\n",
    "    beta = lam_to_beta[lam]\n",
    "    rho = lam_to_rho[lam]\n",
    "    beta_mean = beta.mean(axis=0)\n",
    "\n",
    "    axs[i].scatter(\n",
    "        beta[:, 0], \n",
    "        beta[:, 1], \n",
    "        alpha=0.5)\n",
    "    axs[i].scatter(\n",
    "        beta_nongrouped.betas[0][0],\n",
    "        beta_nongrouped.betas[0][1],\n",
    "        c='#D35400', # red\n",
    "        s=60,\n",
    "        marker=\"*\",\n",
    "    )\n",
    "    axs[i].scatter(\n",
    "        beta_mean[0], \n",
    "        beta_mean[1], \n",
    "        c='#F1C40F',  # yellow\n",
    "        s=30,\n",
    "        marker=\"+\")\n",
    "    \n",
    "    axs[i].set_xlim(xlim)\n",
    "    axs[i].set_ylim(ylim)\n",
    "    axs[i].set_title(f\"$\\\\lambda$ = {lam:0.2f}, $ \\\\rho$ = {rho}\")\n",
    "    \n",
    "#plt.savefig(f'results/mdp_homo_legendre.pdf', bbox_inches='tight')\n",
    "plt.show()"
   ]
  },
  {
   "cell_type": "code",
   "execution_count": 29,
   "id": "728ac77b",
   "metadata": {},
   "outputs": [],
   "source": [
    "# Trial One "
   ]
  },
  {
   "cell_type": "code",
   "execution_count": 24,
   "id": "52a46772",
   "metadata": {},
   "outputs": [
    {
     "name": "stdout",
     "output_type": "stream",
     "text": [
      "+++++ lam = 2, rho = 50 +++++\n",
      "beta_solver, min eigen of left matrix = (0.11768786+0j)\n",
      "MCPImpl: num_above=4991, num_below=14909\n",
      "beta_solver, min eigen of left matrix = (0.11768786+0j)\n",
      "MCPImpl: num_above=19857, num_below=43\n",
      "beta_solver, min eigen of left matrix = (0.11768786+0j)\n",
      "MCPImpl: num_above=19793, num_below=107\n",
      "beta_solver, min eigen of left matrix = (0.11768786+0j)\n",
      "MCPImpl: num_above=19580, num_below=320\n",
      "beta_solver, min eigen of left matrix = (0.11768786+0j)\n",
      "MCPImpl: num_above=18900, num_below=1000\n",
      "beta_solver, min eigen of left matrix = (0.11768786+0j)\n",
      "MCPImpl: num_above=16605, num_below=3295\n",
      "beta_solver, min eigen of left matrix = (0.11768786+0j)\n",
      "MCPImpl: num_above=14024, num_below=5876\n",
      "beta_solver, min eigen of left matrix = (0.11768786+0j)\n",
      "MCPImpl: num_above=17466, num_below=2434\n",
      "beta_solver, min eigen of left matrix = (0.11768786+0j)\n",
      "MCPImpl: num_above=11820, num_below=8080\n",
      "beta_solver, min eigen of left matrix = (0.11768786+0j)\n",
      "MCPImpl: num_above=18730, num_below=1170\n",
      "+++++ lam = 1.5, rho = 25 +++++\n",
      "beta_solver, min eigen of left matrix = (0.11768786+0j)\n",
      "MCPImpl: num_above=11320, num_below=8580\n",
      "beta_solver, min eigen of left matrix = (0.11768786+0j)\n",
      "MCPImpl: num_above=17811, num_below=2089\n",
      "beta_solver, min eigen of left matrix = (0.11768786+0j)\n",
      "MCPImpl: num_above=12725, num_below=7175\n",
      "beta_solver, min eigen of left matrix = (0.11768786+0j)\n",
      "MCPImpl: num_above=17372, num_below=2528\n",
      "beta_solver, min eigen of left matrix = (0.11768786+0j)\n",
      "MCPImpl: num_above=15298, num_below=4602\n",
      "beta_solver, min eigen of left matrix = (0.11768786+0j)\n",
      "MCPImpl: num_above=16195, num_below=3705\n",
      "beta_solver, min eigen of left matrix = (0.11768786+0j)\n",
      "MCPImpl: num_above=10433, num_below=9467\n",
      "beta_solver, min eigen of left matrix = (0.11768786+0j)\n",
      "MCPImpl: num_above=19224, num_below=676\n",
      "beta_solver, min eigen of left matrix = (0.11768786+0j)\n",
      "MCPImpl: num_above=18329, num_below=1571\n",
      "beta_solver, min eigen of left matrix = (0.11768786+0j)\n",
      "MCPImpl: num_above=16368, num_below=3532\n",
      "+++++ lam = 0.5, rho = 10 +++++\n",
      "beta_solver, min eigen of left matrix = (0.11768786+0j)\n",
      "MCPImpl: num_above=19852, num_below=48\n",
      "beta_solver, min eigen of left matrix = (0.11768786+0j)\n",
      "MCPImpl: num_above=19856, num_below=44\n",
      "beta_solver, min eigen of left matrix = (0.11768786+0j)\n",
      "MCPImpl: num_above=19848, num_below=52\n",
      "beta_solver, min eigen of left matrix = (0.11768786+0j)\n",
      "MCPImpl: num_above=19844, num_below=56\n",
      "beta_solver, min eigen of left matrix = (0.11768786+0j)\n",
      "MCPImpl: num_above=19834, num_below=66\n",
      "beta_solver, min eigen of left matrix = (0.11768786+0j)\n",
      "MCPImpl: num_above=19830, num_below=70\n",
      "beta_solver, min eigen of left matrix = (0.11768786+0j)\n",
      "MCPImpl: num_above=19826, num_below=74\n",
      "beta_solver, min eigen of left matrix = (0.11768786+0j)\n",
      "MCPImpl: num_above=19825, num_below=75\n",
      "beta_solver, min eigen of left matrix = (0.11768786+0j)\n",
      "MCPImpl: num_above=19821, num_below=79\n",
      "beta_solver, min eigen of left matrix = (0.11768786+0j)\n",
      "MCPImpl: num_above=19815, num_below=85\n"
     ]
    }
   ],
   "source": [
    "algo_config_init = dict(\n",
    "    discount=0.6,\n",
    "    max_num_iters=10,\n",
    "    gam=2.7,\n",
    "    #should_remove_outlier=True,\n",
    "    #outlier_lower_perc=2,\n",
    "    #outlier_upper_perc=98,\n",
    "    nu_coeff=1e-6,         \n",
    "    delta_coeff=1e-6,\n",
    "    use_group_wise_regression_init=True,\n",
    ")\n",
    "\n",
    "data = generate_data_from_config(data_config)\n",
    "\n",
    "pi_eval = AlternativePolicy(data.num_actions())\n",
    "\n",
    "beta_nongrouped = beta_estimate_from_nongrouped(\n",
    "    data, pi_eval, algo_config_init[\"discount\"]\n",
    ")\n",
    "\n",
    "lam_to_beta = {}\n",
    "lam_list = [2, 1.5, 0.5]\n",
    "rho_list = [50, 25, 10]\n",
    "\n",
    "for lam, rho in zip(lam_list, rho_list):\n",
    "    print(f\"+++++ lam = {lam}, rho = {rho} +++++\")\n",
    "    algo_config = AlgoConfig(lam=lam, rho=rho, **algo_config_init)\n",
    "    impl = MCPImpl(data.N(), algo_config)\n",
    "    beta_opt = BetaOptimizer(data, algo_config, pi_eval, impl)\n",
    "    lam_to_beta[algo_config.lam] = beta_opt.compute()"
   ]
  },
  {
   "cell_type": "code",
   "execution_count": 27,
   "id": "e0801faa",
   "metadata": {},
   "outputs": [
    {
     "data": {
      "text/plain": [
       "<Figure size 640x480 with 0 Axes>"
      ]
     },
     "metadata": {},
     "output_type": "display_data"
    },
    {
     "data": {
      "image/png": "[encoded data removed]",
      "text/plain": [
       "<Figure size 1400x400 with 3 Axes>"
      ]
     },
     "metadata": {},
     "output_type": "display_data"
    }
   ],
   "source": [
    "xlim = [-30, 30]\n",
    "ylim = [-30, 30]\n",
    "\n",
    "plt.set_cmap('tab20')\n",
    "fig, axs = plt.subplots(1, 3, figsize=[14, 4])\n",
    "\n",
    "for i, lam in enumerate(sorted(lam_to_beta.keys())):\n",
    "    beta = lam_to_beta[lam]\n",
    "    beta_mean = beta.mean(axis=0)\n",
    "\n",
    "    axs[i].scatter(\n",
    "        beta[:, 0], \n",
    "        beta[:, 1], \n",
    "        alpha=0.5)\n",
    "    axs[i].scatter(\n",
    "        beta_nongrouped.betas[0][0],\n",
    "        beta_nongrouped.betas[0][1],\n",
    "        c='#D35400', # red\n",
    "        s=60,\n",
    "        marker=\"*\",\n",
    "    )\n",
    "    axs[i].scatter(\n",
    "        beta_mean[0], \n",
    "        beta_mean[1], \n",
    "        c='#F1C40F',  # yellow\n",
    "        s=30,\n",
    "        marker=\"+\")\n",
    "    \n",
    "    axs[i].set_xlim(xlim)\n",
    "    axs[i].set_ylim(ylim)\n",
    "    axs[i].set_title(f\"$\\lambda$ = {lam:0.2f}\")"
   ]
  },
  {
   "cell_type": "markdown",
   "id": "ee9c32d8",
   "metadata": {},
   "source": [
    "# Previous"
   ]
  },
  {
   "cell_type": "code",
   "execution_count": null,
   "id": "b7db6101",
   "metadata": {},
   "outputs": [],
   "source": [
    "lam_to_beta = {}"
   ]
  },
  {
   "cell_type": "code",
   "execution_count": 3,
   "id": "4619698a-ff6e-4132-b1b9-76fd76b3a624",
   "metadata": {
    "tags": []
   },
   "outputs": [
    {
     "name": "stdout",
     "output_type": "stream",
     "text": [
      "beta_solver, min eigen of left matrix = 0.48847613\n",
      "MCPImpl: num_above=17880, num_below=2020\n",
      "beta_solver, min eigen of left matrix = 0.48847613\n",
      "MCPImpl: num_above=16242, num_below=3658\n",
      "beta_solver, min eigen of left matrix = 0.48847613\n",
      "MCPImpl: num_above=14254, num_below=5646\n",
      "beta_solver, min eigen of left matrix = 0.48847613\n",
      "MCPImpl: num_above=13459, num_below=6441\n",
      "beta_solver, min eigen of left matrix = 0.48847613\n",
      "MCPImpl: num_above=16281, num_below=3619\n",
      "beta_solver, min eigen of left matrix = 0.48847613\n",
      "MCPImpl: num_above=14369, num_below=5531\n",
      "beta_solver, min eigen of left matrix = 0.48847613\n",
      "MCPImpl: num_above=12400, num_below=7500\n",
      "beta_solver, min eigen of left matrix = 0.48847613\n",
      "MCPImpl: num_above=16117, num_below=3783\n",
      "beta_solver, min eigen of left matrix = 0.48847613\n",
      "MCPImpl: num_above=14206, num_below=5694\n",
      "beta_solver, min eigen of left matrix = 0.48847613\n",
      "MCPImpl: num_above=11761, num_below=8139\n"
     ]
    }
   ],
   "source": [
    "algo_config = AlgoConfig(lam=1, rho=50, **algo_config_init)\n",
    "impl = MCPImpl(data.N(), algo_config)\n",
    "beta_opt = BetaOptimizer(data, algo_config, pi_eval, impl)\n",
    "lam_to_beta[algo_config.lam] = beta_opt.compute()"
   ]
  },
  {
   "cell_type": "code",
   "execution_count": 4,
   "id": "088873ef-a758-40e7-8749-6b686cf18fde",
   "metadata": {
    "tags": []
   },
   "outputs": [
    {
     "name": "stdout",
     "output_type": "stream",
     "text": [
      "beta_solver, min eigen of left matrix = 0.48847613\n",
      "MCPImpl: num_above=19382, num_below=518\n",
      "beta_solver, min eigen of left matrix = 0.48847613\n",
      "MCPImpl: num_above=19285, num_below=615\n",
      "beta_solver, min eigen of left matrix = 0.48847613\n",
      "MCPImpl: num_above=19166, num_below=734\n",
      "beta_solver, min eigen of left matrix = 0.48847613\n",
      "MCPImpl: num_above=19083, num_below=817\n",
      "beta_solver, min eigen of left matrix = 0.48847613\n",
      "MCPImpl: num_above=18994, num_below=906\n",
      "beta_solver, min eigen of left matrix = 0.48847613\n",
      "MCPImpl: num_above=18902, num_below=998\n",
      "beta_solver, min eigen of left matrix = 0.48847613\n",
      "MCPImpl: num_above=18810, num_below=1090\n",
      "beta_solver, min eigen of left matrix = 0.48847613\n",
      "MCPImpl: num_above=18711, num_below=1189\n",
      "beta_solver, min eigen of left matrix = 0.48847613\n",
      "MCPImpl: num_above=18589, num_below=1311\n",
      "beta_solver, min eigen of left matrix = 0.48847613\n",
      "MCPImpl: num_above=18471, num_below=1429\n"
     ]
    }
   ],
   "source": [
    "algo_config = AlgoConfig(lam=0.75, rho=10, **algo_config_init)\n",
    "impl = MCPImpl(data.N(), algo_config)\n",
    "beta_opt = BetaOptimizer(data, algo_config, pi_eval, impl)\n",
    "lam_to_beta[algo_config.lam] = beta_opt.compute()"
   ]
  },
  {
   "cell_type": "code",
   "execution_count": 5,
   "id": "7812f3c1-ceee-4eed-937b-6c66b3b9398d",
   "metadata": {
    "tags": []
   },
   "outputs": [
    {
     "name": "stdout",
     "output_type": "stream",
     "text": [
      "beta_solver, min eigen of left matrix = 0.48847613\n",
      "MCPImpl: num_above=19852, num_below=48\n",
      "beta_solver, min eigen of left matrix = 0.48847613\n",
      "MCPImpl: num_above=19879, num_below=21\n",
      "beta_solver, min eigen of left matrix = 0.48847613\n",
      "MCPImpl: num_above=19852, num_below=48\n",
      "beta_solver, min eigen of left matrix = 0.48847613\n",
      "MCPImpl: num_above=19879, num_below=21\n",
      "beta_solver, min eigen of left matrix = 0.48847613\n",
      "MCPImpl: num_above=19851, num_below=49\n",
      "beta_solver, min eigen of left matrix = 0.48847613\n",
      "MCPImpl: num_above=19879, num_below=21\n",
      "beta_solver, min eigen of left matrix = 0.48847613\n",
      "MCPImpl: num_above=19851, num_below=49\n",
      "beta_solver, min eigen of left matrix = 0.48847613\n",
      "MCPImpl: num_above=19879, num_below=21\n",
      "beta_solver, min eigen of left matrix = 0.48847613\n",
      "MCPImpl: num_above=19851, num_below=49\n",
      "beta_solver, min eigen of left matrix = 0.48847613\n",
      "MCPImpl: num_above=19879, num_below=21\n"
     ]
    }
   ],
   "source": [
    "algo_config = AlgoConfig(lam=0.5, rho=5, **algo_config_init)\n",
    "impl = MCPImpl(data.N(), algo_config)\n",
    "beta_opt = BetaOptimizer(data, algo_config, pi_eval, impl)\n",
    "lam_to_beta[algo_config.lam] = beta_opt.compute()"
   ]
  },
  {
   "cell_type": "code",
   "execution_count": 7,
   "id": "596be7ab-822a-4660-b5fc-07e0954d0eed",
   "metadata": {
    "tags": []
   },
   "outputs": [
    {
     "data": {
      "image/png": "[encoded data removed]",
      "text/plain": [
       "<Figure size 1400x400 with 3 Axes>"
      ]
     },
     "metadata": {},
     "output_type": "display_data"
    }
   ],
   "source": [
    "xlim = [-10, 10]\n",
    "ylim = [-10, 10]\n",
    "\n",
    "fig, axs = plt.subplots(1, 3, figsize=[14, 4])\n",
    "for i, lam in enumerate(sorted(lam_to_beta.keys())):\n",
    "    beta = lam_to_beta[lam]\n",
    "    beta_mean = beta.mean(axis=0)\n",
    "\n",
    "    axs[i].scatter(beta[:, 0], beta[:, 1], s=5, c=\"b\", marker=\"x\")\n",
    "    axs[i].scatter(\n",
    "        beta_nongrouped.betas[0][0],\n",
    "        beta_nongrouped.betas[0][1],\n",
    "        s=20,\n",
    "        c=\"y\",\n",
    "        marker=\"o\",\n",
    "    )\n",
    "    axs[i].scatter(beta_mean[0], beta_mean[1], s=20, c=\"r\", marker=\"o\")\n",
    "    axs[i].set_xlim(xlim)\n",
    "    axs[i].set_ylim(ylim)\n",
    "    axs[i].set_title(f\"$\\lambda$ = {lam:0.2f}\")"
   ]
  },
  {
   "cell_type": "code",
   "execution_count": null,
   "id": "e89cc4f3",
   "metadata": {},
   "outputs": [],
   "source": []
  }
 ],
 "metadata": {
  "kernelspec": {
   "display_name": "Python 3 (ipykernel)",
   "language": "python",
   "name": "python3"
  },
  "language_info": {
   "codemirror_mode": {
    "name": "ipython",
    "version": 3
   },
   "file_extension": ".py",
   "mimetype": "text/x-python",
   "name": "python",
   "nbconvert_exporter": "python",
   "pygments_lexer": "ipython3",
   "version": "3.10.13"
  }
 },
 "nbformat": 4,
 "nbformat_minor": 5
}
