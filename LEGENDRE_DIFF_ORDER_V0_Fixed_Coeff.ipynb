{
 "cells": [
  {
   "cell_type": "code",
   "execution_count": 2,
   "id": "2017b44c",
   "metadata": {},
   "outputs": [],
   "source": [
    "import pickle\n",
    "from datetime import datetime as dtdt\n",
    "\n",
    "import attrs\n",
    "import numpy as np\n",
    "\n",
    "from hetero.config import DTYPE, AlgoConfig, DataGenConfig, GroupingConfig\n",
    "from hetero.datagen import generate_data_from_config, extract_first_n_order\n",
    "from hetero.policies import AlternativePolicy\n",
    "from hetero.tasks import (\n",
    "    beta_estimate_from,\n",
    "    beta_estimate_from_e2e_learning,\n",
    "    beta_estimate_from_nongrouped,\n",
    "    compute_UV_truths,\n",
    "    compute_V_estimate,\n",
    ")\n",
    "from hetero.utils import generate_decay_matrix"
   ]
  },
  {
   "cell_type": "code",
   "execution_count": 3,
   "id": "1a72dbb3-c503-4b4a-a582-2e96439edd3c",
   "metadata": {
    "tags": []
   },
   "outputs": [],
   "source": [
    "MAX_LEGENDRE_ORDER = 4\n",
    "TRUE_LEGENDRE_ORDER = 2\n",
    "assert TRUE_LEGENDRE_ORDER < MAX_LEGENDRE_ORDER\n",
    "\n",
    "SEED = 8888 #1818 \n",
    "\n",
    "coeff_rand = np.random.RandomState(SEED) #(7531)\n",
    "\n",
    "group_reward_coeff = np.array(\n",
    "    [\n",
    "        [-2, 2, 2, -2],\n",
    "        [2, -2, -2, 2],\n",
    "    ],\n",
    "    dtype=DTYPE,\n",
    ")\n",
    "\n",
    "action_reward_coeff = [-1, 1]\n",
    "\n",
    "FEATURE_TYPE = \"LEGENDRE\"\n",
    "TRANS = \"NORMCDF\"\n",
    "NOISE = \"STUDENT\""
   ]
  },
  {
   "cell_type": "code",
   "execution_count": 4,
   "id": "0d7ea176-cf76-40f1-9fb2-b480dfe2329d",
   "metadata": {
    "tags": []
   },
   "outputs": [
    {
     "name": "stdout",
     "output_type": "stream",
     "text": [
      "result file name = hetero/data/LEGENDRE_NORMCDF_STUDENT_result_20230528_N=100_T=40_20230602_21-49-24.pkl\n",
      "Result will NOT be saved, only use this for experimental runs!!!\n"
     ]
    }
   ],
   "source": [
    "FEATURE_TYPE = \"LEGENDRE\"\n",
    "TRANS = \"NORMCDF\"\n",
    "NOISE = \"STUDENT\"\n",
    "\n",
    "data_config_init = dict(\n",
    "    num_trajectories=100,\n",
    "    num_time_steps=40,\n",
    "    group_reward_coeff_override=group_reward_coeff,\n",
    "    action_reward_coeff=action_reward_coeff,\n",
    "    num_burnin_steps=100,\n",
    "    basis_expansion_method=FEATURE_TYPE,\n",
    "    transformation_method=TRANS,\n",
    "    add_intercept_column=True,\n",
    "    noise_type=NOISE,\n",
    "    noise_student_degree=4,\n",
    ")\n",
    "\n",
    "time_tag = dtdt.now().strftime(\"%Y%m%d_%H-%M-%S\")\n",
    "tag = f'N={data_config_init[\"num_trajectories\"]}_T={data_config_init[\"num_time_steps\"]}_{time_tag}'\n",
    "RESULT_FILE = f\"hetero/data/{FEATURE_TYPE}_{TRANS}_{NOISE}_result_20230528_{tag}.pkl\"\n",
    "print(\"result file name =\", RESULT_FILE)\n",
    "SAVE_RESULT = False\n",
    "if not SAVE_RESULT:\n",
    "    print(\"Result will NOT be saved, only use this for experimental runs!!!\")"
   ]
  },
  {
   "cell_type": "markdown",
   "id": "14ac4ff1",
   "metadata": {},
   "source": [
    "====================================================================================================="
   ]
  },
  {
   "cell_type": "code",
   "execution_count": 5,
   "id": "6460ca6b-2f04-4d67-a388-b283110519ca",
   "metadata": {
    "tags": []
   },
   "outputs": [],
   "source": [
    "algo_config = AlgoConfig(\n",
    "    max_num_iters=10,\n",
    "    gam=2.7,\n",
    "    lam=2.0,\n",
    "    rho=2.0,\n",
    "    #should_remove_outlier=True,\n",
    "    #outlier_lower_perc=2,\n",
    "    #outlier_upper_perc=98,\n",
    "    nu_coeff=0,\n",
    "    delta_coeff=0,\n",
    "    use_group_wise_regression_init=True,\n",
    ")\n",
    "\n",
    "pi_eval = AlternativePolicy(2)\n",
    "\n",
    "grouping_config = GroupingConfig()"
   ]
  },
  {
   "cell_type": "code",
   "execution_count": 6,
   "id": "f4483374-8816-49cc-8cf0-e2a8b129f7ae",
   "metadata": {
    "tags": []
   },
   "outputs": [],
   "source": [
    "FULL_DATA_CONFIG = DataGenConfig(seed=SEED, **data_config_init)\n",
    "FULL_DATA = generate_data_from_config(FULL_DATA_CONFIG)"
   ]
  },
  {
   "cell_type": "code",
   "execution_count": 7,
   "id": "957e134f-048a-4340-ae17-3a6cfca65320",
   "metadata": {
    "tags": []
   },
   "outputs": [
    {
     "name": "stdout",
     "output_type": "stream",
     "text": [
      "[[0.23030634 0.37052292 0.62422955 0.36836544 1.        ]\n",
      " [0.86754966 0.45787346 0.91378623 0.31447265 1.        ]\n",
      " [0.5628606  0.2707383  0.32188046 0.5236095  1.        ]]\n",
      "[[0.91535705 0.38602734 0.9901991  0.35415715 1.        ]\n",
      " [0.1894819  0.20580925 0.745723   0.6953881  1.        ]\n",
      " [0.9999619  0.57452893 1.         0.3274263  1.        ]]\n"
     ]
    }
   ],
   "source": [
    "print(FULL_DATA.current_features[:3, :])\n",
    "print(FULL_DATA.next_features[:3, :])"
   ]
  },
  {
   "cell_type": "code",
   "execution_count": 8,
   "id": "4619698a-ff6e-4132-b1b9-76fd76b3a624",
   "metadata": {
    "tags": []
   },
   "outputs": [
    {
     "name": "stdout",
     "output_type": "stream",
     "text": [
      "FULL_FEATURE_SHAPE= (8000, 5)\n",
      "FEATURE_SHAPE= (8000, 3)\n",
      "new_labels.length=8000 matches number of records\n",
      "beta_solver, min eigen of left matrix = 1.0\n",
      "MCPImpl: num_above=11891, num_below=8009\n",
      "beta_solver, min eigen of left matrix = 1.0\n",
      "MCPImpl: num_above=15124, num_below=4776\n",
      "beta_solver, min eigen of left matrix = 1.0\n",
      "MCPImpl: num_above=11905, num_below=7995\n",
      "beta_solver, min eigen of left matrix = 1.0\n",
      "MCPImpl: num_above=15149, num_below=4751\n",
      "beta_solver, min eigen of left matrix = 1.0\n",
      "MCPImpl: num_above=11902, num_below=7998\n",
      "beta_solver, min eigen of left matrix = 1.0\n",
      "MCPImpl: num_above=15144, num_below=4756\n",
      "beta_solver, min eigen of left matrix = 1.0\n",
      "MCPImpl: num_above=11898, num_below=8002\n",
      "beta_solver, min eigen of left matrix = 1.0\n",
      "MCPImpl: num_above=15153, num_below=4747\n",
      "beta_solver, min eigen of left matrix = 1.0\n",
      "MCPImpl: num_above=11910, num_below=7990\n",
      "beta_solver, min eigen of left matrix = 1.0\n",
      "MCPImpl: num_above=15139, num_below=4761\n",
      "kmeans center = [[ 0.88474234 -3.10361793  1.75078207  3.08772961 -1.03366904  0.71305297]\n",
      " [-0.9904101   3.05243705 -1.75011238 -2.9580486   0.85870972 -0.73100026]] and inertia = 1865.1930863143386\n",
      "Label mismatch = 0\n",
      "new_labels.length=200 matches num_unique_labels\n",
      "new_labels.length=8000 matches number of records\n",
      "FEATURE_SHAPE= (8000, 5)\n",
      "new_labels.length=8000 matches number of records\n",
      "beta_solver, min eigen of left matrix = 1.0\n",
      "MCPImpl: num_above=12712, num_below=7188\n",
      "beta_solver, min eigen of left matrix = 1.0\n",
      "MCPImpl: num_above=17600, num_below=2300\n",
      "beta_solver, min eigen of left matrix = 1.0\n",
      "MCPImpl: num_above=12826, num_below=7074\n",
      "beta_solver, min eigen of left matrix = 1.0\n",
      "MCPImpl: num_above=17756, num_below=2144\n",
      "beta_solver, min eigen of left matrix = 1.0\n",
      "MCPImpl: num_above=12762, num_below=7138\n",
      "beta_solver, min eigen of left matrix = 1.0\n",
      "MCPImpl: num_above=17775, num_below=2125\n",
      "beta_solver, min eigen of left matrix = 1.0\n",
      "MCPImpl: num_above=12747, num_below=7153\n",
      "beta_solver, min eigen of left matrix = 1.0\n",
      "MCPImpl: num_above=17787, num_below=2113\n",
      "beta_solver, min eigen of left matrix = 1.0\n",
      "MCPImpl: num_above=12848, num_below=7052\n",
      "beta_solver, min eigen of left matrix = 1.0\n",
      "MCPImpl: num_above=17669, num_below=2231\n",
      "kmeans center = [[ 0.87064123 -3.0479687  -2.67053571  2.58402391  1.82666464  3.33164665\n",
      "  -0.91088327 -2.88853732  2.54771128  0.65274326]\n",
      " [-0.94466219  3.17266767  2.81336676 -2.81473583 -1.86970995 -3.24357744\n",
      "   0.93723077  2.74982754 -2.63794998 -0.68492715]] and inertia = 2681.7372113231568\n",
      "Label mismatch = 0\n",
      "new_labels.length=200 matches num_unique_labels\n",
      "new_labels.length=8000 matches number of records\n",
      "FEATURE_SHAPE= (8000, 6)\n",
      "new_labels.length=8000 matches number of records\n",
      "beta_solver, min eigen of left matrix = 1.0\n",
      "MCPImpl: num_above=11928, num_below=7972\n",
      "beta_solver, min eigen of left matrix = 1.0\n",
      "MCPImpl: num_above=17352, num_below=2548\n",
      "beta_solver, min eigen of left matrix = 1.0\n",
      "MCPImpl: num_above=12199, num_below=7701\n",
      "beta_solver, min eigen of left matrix = 1.0\n",
      "MCPImpl: num_above=17627, num_below=2273\n",
      "beta_solver, min eigen of left matrix = 1.0\n",
      "MCPImpl: num_above=12063, num_below=7837\n",
      "beta_solver, min eigen of left matrix = 1.0\n",
      "MCPImpl: num_above=17713, num_below=2187\n",
      "beta_solver, min eigen of left matrix = 1.0\n",
      "MCPImpl: num_above=11994, num_below=7906\n",
      "beta_solver, min eigen of left matrix = 1.0\n",
      "MCPImpl: num_above=17675, num_below=2225\n",
      "beta_solver, min eigen of left matrix = 1.0\n",
      "MCPImpl: num_above=12239, num_below=7661\n",
      "beta_solver, min eigen of left matrix = 1.0\n",
      "MCPImpl: num_above=17514, num_below=2386\n",
      "kmeans center = [[ 1.14572294 -3.1538399  -3.00555773  2.39431641  0.98435102  0.98435102\n",
      "   2.60011922 -0.98149438 -3.30121613  2.43596347  0.59468695  0.59468695]\n",
      " [-0.96370589  3.27085211  2.71424105 -2.81815103 -0.95334615 -0.95334615\n",
      "  -3.18238207  0.82980178  2.7488601  -2.71617494 -0.31879503 -0.31879503]] and inertia = 14693.904248347939\n",
      "Label mismatch = 0\n",
      "new_labels.length=200 matches num_unique_labels\n",
      "new_labels.length=8000 matches number of records\n",
      "FEATURE_SHAPE= (8000, 6)\n",
      "new_labels.length=8000 matches number of records\n",
      "beta_solver, min eigen of left matrix = 1.0\n",
      "MCPImpl: num_above=11928, num_below=7972\n",
      "beta_solver, min eigen of left matrix = 1.0\n",
      "MCPImpl: num_above=17352, num_below=2548\n",
      "beta_solver, min eigen of left matrix = 1.0\n",
      "MCPImpl: num_above=12199, num_below=7701\n",
      "beta_solver, min eigen of left matrix = 1.0\n",
      "MCPImpl: num_above=17627, num_below=2273\n",
      "beta_solver, min eigen of left matrix = 1.0\n",
      "MCPImpl: num_above=12063, num_below=7837\n",
      "beta_solver, min eigen of left matrix = 1.0\n",
      "MCPImpl: num_above=17713, num_below=2187\n",
      "beta_solver, min eigen of left matrix = 1.0\n",
      "MCPImpl: num_above=11994, num_below=7906\n",
      "beta_solver, min eigen of left matrix = 1.0\n",
      "MCPImpl: num_above=17675, num_below=2225\n",
      "beta_solver, min eigen of left matrix = 1.0\n",
      "MCPImpl: num_above=12239, num_below=7661\n",
      "beta_solver, min eigen of left matrix = 1.0\n",
      "MCPImpl: num_above=17514, num_below=2386\n",
      "kmeans center = [[ 1.14572294 -3.1538399  -3.00555773  2.39431641  0.98435102  0.98435102\n",
      "   2.60011922 -0.98149438 -3.30121613  2.43596347  0.59468695  0.59468695]\n",
      " [-0.96370589  3.27085211  2.71424105 -2.81815103 -0.95334615 -0.95334615\n",
      "  -3.18238207  0.82980178  2.7488601  -2.71617494 -0.31879503 -0.31879503]] and inertia = 14693.904248347939\n",
      "Label mismatch = 0\n",
      "new_labels.length=200 matches num_unique_labels\n",
      "new_labels.length=8000 matches number of records\n"
     ]
    }
   ],
   "source": [
    "beta_learned_list = []\n",
    "print(\"FULL_FEATURE_SHAPE=\", FULL_DATA.current_features.shape)\n",
    "for order in range(1, MAX_LEGENDRE_ORDER + 1):\n",
    "    data = extract_first_n_order(FULL_DATA, order, FULL_DATA_CONFIG)\n",
    "    print(\"FEATURE_SHAPE=\", data.current_features.shape)\n",
    "    beta_learned_list.append(\n",
    "        beta_estimate_from_e2e_learning(data, algo_config, grouping_config, pi_eval)\n",
    "    )"
   ]
  },
  {
   "cell_type": "code",
   "execution_count": 9,
   "id": "f283e677-4a7f-4021-bc4d-a538f91b36f0",
   "metadata": {
    "scrolled": true,
    "tags": []
   },
   "outputs": [
    {
     "name": "stdout",
     "output_type": "stream",
     "text": [
      "1 [0.8977987776869236, 0.9120894214616271]\n",
      "2 [0.7445468022332403, 0.7532586777085729]\n",
      "3 [0.742769255646827, 0.7351374757829313]\n",
      "4 [0.742769255646827, 0.7351374757829313]\n"
     ]
    }
   ],
   "source": [
    "for order, beta in zip(range(1, 11), beta_learned_list):\n",
    "    print(order, beta.mean_sqrt_residuals)"
   ]
  },
  {
   "cell_type": "code",
   "execution_count": 10,
   "id": "3a65df4d",
   "metadata": {},
   "outputs": [
    {
     "data": {
      "text/plain": [
       "'\\n1 [2.802960947774569, 3.4396761665808695]\\n2 [2.461491873623194, 2.5502559853495135]\\n3 [2.4895700120539446, 2.693757645047646]\\n4 [2.5411310150213864, 2.6872455876229497]\\n'"
      ]
     },
     "execution_count": 10,
     "metadata": {},
     "output_type": "execute_result"
    }
   ],
   "source": [
    "'''\n",
    "1 [2.802960947774569, 3.4396761665808695]\n",
    "2 [2.461491873623194, 2.5502559853495135]\n",
    "3 [2.4895700120539446, 2.693757645047646]\n",
    "4 [2.5411310150213864, 2.6872455876229497]\n",
    "'''"
   ]
  },
  {
   "cell_type": "code",
   "execution_count": 14,
   "id": "9213f188",
   "metadata": {},
   "outputs": [
    {
     "data": {
      "text/plain": [
       "(4, 2)"
      ]
     },
     "execution_count": 14,
     "metadata": {},
     "output_type": "execute_result"
    }
   ],
   "source": [
    "res = np.array([\n",
    "    [0.8977987776869236, 0.9120894214616271],\n",
    "    [0.7445468022332403, 0.7532586777085729],\n",
    "    [0.742769255646827, 0.7351374757829313],\n",
    "    [0.742769255646827, 0.7351374757829313]\n",
    "])\n",
    "res.shape"
   ]
  },
  {
   "cell_type": "code",
   "execution_count": 16,
   "id": "812373dc",
   "metadata": {},
   "outputs": [],
   "source": [
    "x = [1,2,3,4]\n",
    "y = np.mean(res**2, axis=1)"
   ]
  },
  {
   "cell_type": "code",
   "execution_count": 25,
   "id": "22f1c66a",
   "metadata": {},
   "outputs": [
    {
     "data": {
      "image/png": "[encoded data removed]",
      "text/plain": [
       "<Figure size 900x400 with 1 Axes>"
      ]
     },
     "metadata": {},
     "output_type": "display_data"
    }
   ],
   "source": [
    "import matplotlib.pyplot as plt\n",
    "import matplotlib as mpl\n",
    "\n",
    "plt.figure(figsize=(9,4))\n",
    "plt.set_cmap('tab20')\n",
    "plt.plot(x, y, marker='o')\n",
    "\n",
    "#plt.title('Fitted Mean Squared Residuals V.S. J', fontsize=14)\n",
    "plt.xticks(x)\n",
    "plt.xlabel('Value of J', fontsize=14)\n",
    "plt.ylabel('Fitted Mean Squared Residuals', fontsize=14)\n",
    "plt.grid(True)\n",
    "\n",
    "plt.savefig(f'results/differ_J.pdf', bbox_inches='tight')"
   ]
  },
  {
   "cell_type": "code",
   "execution_count": null,
   "id": "b2eee2c8",
   "metadata": {},
   "outputs": [],
   "source": [
    "x = [1,2,3,4]\n",
    "y_msr = np.array([0.7984360395717708, 0.6478314309268901, 1.4320189920821786, 3.0909050260042616])\n",
    "y_sig = np.arragy([0.022312958034004727, 0.017965336241819896, 0.03971506875035885, 0.08493631791635486])"
   ]
  },
  {
   "cell_type": "code",
   "execution_count": null,
   "id": "8d82cc6a",
   "metadata": {},
   "outputs": [],
   "source": []
  }
 ],
 "metadata": {
  "kernelspec": {
   "display_name": "Python 3 (ipykernel)",
   "language": "python",
   "name": "python3"
  },
  "language_info": {
   "codemirror_mode": {
    "name": "ipython",
    "version": 3
   },
   "file_extension": ".py",
   "mimetype": "text/x-python",
   "name": "python",
   "nbconvert_exporter": "python",
   "pygments_lexer": "ipython3",
   "version": "3.11.3"
  }
 },
 "nbformat": 4,
 "nbformat_minor": 5
}
